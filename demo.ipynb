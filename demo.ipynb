{
 "cells": [
  {
   "metadata": {},
   "cell_type": "code",
   "source": [
    "import chromadb\n",
    "\n",
    "client = chromadb.HttpClient(\n",
    "    host='localhost',\n",
    "    port=8000,\n",
    "\n",
    ")\n",
    "\n",
    "collection = client.create_collection(name='demo_collection')\n",
    "print(collection)"
   ],
   "id": "dba69169d922d4d0",
   "outputs": [],
   "execution_count": null
  },
  {
   "metadata": {},
   "cell_type": "code",
   "source": [
    "collection = client.get_collection(name='demo_collection')\n",
    "print(collection)"
   ],
   "id": "ab7848f881768a0a",
   "outputs": [],
   "execution_count": null
  },
  {
   "metadata": {},
   "cell_type": "code",
   "source": "client.heartbeat()",
   "id": "aca4cc4a3bff1815",
   "outputs": [],
   "execution_count": null
  },
  {
   "metadata": {},
   "cell_type": "code",
   "source": "client.reset()",
   "id": "5ae198aa7144834a",
   "outputs": [],
   "execution_count": null
  },
  {
   "metadata": {
    "ExecuteTime": {
     "end_time": "2025-10-24T11:47:08.455885Z",
     "start_time": "2025-10-24T11:47:08.446866Z"
    }
   },
   "cell_type": "code",
   "source": "client.list_collections()",
   "id": "d403aad135e5f3c5",
   "outputs": [
    {
     "data": {
      "text/plain": [
       "[Collection(name=demo_collection)]"
      ]
     },
     "execution_count": 7,
     "metadata": {},
     "output_type": "execute_result"
    }
   ],
   "execution_count": 7
  },
  {
   "metadata": {
    "ExecuteTime": {
     "end_time": "2025-10-24T11:47:53.973166Z",
     "start_time": "2025-10-24T11:47:53.939029Z"
    }
   },
   "cell_type": "code",
   "source": "client.delete_collection(name='demo_collection')",
   "id": "c73811638f3edb2b",
   "outputs": [],
   "execution_count": 8
  },
  {
   "metadata": {
    "ExecuteTime": {
     "end_time": "2025-10-24T11:48:01.332172Z",
     "start_time": "2025-10-24T11:48:01.324181Z"
    }
   },
   "cell_type": "code",
   "source": "client.list_collections()",
   "id": "2247ed380938a9b",
   "outputs": [
    {
     "data": {
      "text/plain": [
       "[]"
      ]
     },
     "execution_count": 9,
     "metadata": {},
     "output_type": "execute_result"
    }
   ],
   "execution_count": 9
  },
  {
   "metadata": {},
   "cell_type": "code",
   "outputs": [],
   "execution_count": null,
   "source": "",
   "id": "d01889825f1786e3"
  }
 ],
 "metadata": {
  "kernelspec": {
   "display_name": "Python 3",
   "language": "python",
   "name": "python3"
  },
  "language_info": {
   "codemirror_mode": {
    "name": "ipython",
    "version": 2
   },
   "file_extension": ".py",
   "mimetype": "text/x-python",
   "name": "python",
   "nbconvert_exporter": "python",
   "pygments_lexer": "ipython2",
   "version": "2.7.6"
  }
 },
 "nbformat": 4,
 "nbformat_minor": 5
}
