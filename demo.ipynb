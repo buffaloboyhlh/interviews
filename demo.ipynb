{
 "cells": [
  {
   "metadata": {},
   "cell_type": "code",
   "source": [
    "from langchain_core.messages import HumanMessage\n",
    "from langchain_ollama import ChatOllama\n",
    "from langchain.agents import create_agent\n",
    "from langchain.agents.middleware import wrap_model_call,ModelResponse,ModelRequest\n",
    "\n",
    "@wrap_model_call\n",
    "def log_model(request:ModelRequest,handler) -> ModelResponse:\n",
    "    print(\"模型调用前\".center(50,\"=\"))\n",
    "    print(\"输入内容：\",[m.content for m in request.messages])\n",
    "\n",
    "    response = handler(request)\n",
    "\n",
    "    print(\"模型调用后\".center(50,\"=\"))\n",
    "    print(\"模型响应内容：\",response.result)\n",
    "\n",
    "    return response\n",
    "\n",
    "\n",
    "model = ChatOllama(model=\"qwen3:1.7b\")\n",
    "agent = create_agent(model=model,middleware=[log_model])\n",
    "\n",
    "agent.invoke({\n",
    "    \"messages\": [HumanMessage(\"介绍一下你自己\")]\n",
    "})"
   ],
   "id": "14d1f06f7335f649",
   "outputs": [],
   "execution_count": null
  },
  {
   "metadata": {},
   "cell_type": "code",
   "source": [
    "from langchain_ollama import ChatOllama\n",
    "from langchain.agents import create_agent\n",
    "from langchain.messages import HumanMessage\n",
    "from langchain.tools import tool\n",
    "from langchain.agents.middleware import HumanInTheLoopMiddleware\n",
    "from langgraph.checkpoint.memory import InMemorySaver\n",
    "\n",
    "@tool\n",
    "def send_email(recipient:str,subject:str,body:str) -> str:\n",
    "    \"\"\"发送电子邮件，此操作需要人工审核\"\"\"\n",
    "    print(\"发送邮件\".center(50,\"=\"))\n",
    "    print(f\"模拟发送邮件给{recipient},主题：{subject}\")\n",
    "    print(\"邮件内容：\",body)\n",
    "    return f\"邮件已经发送给{recipient}\"\n",
    "\n",
    "def human_review(tool_name, input_args):\n",
    "    print(f\"\\n⚠️ 工具调用请求: {tool_name}\")\n",
    "    print(f\"参数: {input_args}\")\n",
    "    decision = input(\"批准发送邮件吗？(approve/edit/reject): \")\n",
    "\n",
    "    if decision == \"edit\":\n",
    "        new_body = input(\"请输入修改后的邮件内容: \")\n",
    "        input_args[\"body\"] = new_body\n",
    "        return {\"decision\": \"approve\", \"input_args\": input_args}\n",
    "    elif decision == \"reject\":\n",
    "        return {\"decision\": \"reject\"}\n",
    "    else:\n",
    "        return {\"decision\": \"approve\"}\n",
    "\n",
    "\n",
    "\n",
    "\n",
    "human_middleware = HumanInTheLoopMiddleware(\n",
    "    interrupt_on={\n",
    "        \"send_email\": {\n",
    "            \"allowed_decisions\": [\"approve\", \"edit\", \"reject\"],\n",
    "            \"callback\": human_review,\n",
    "        }\n",
    "    }\n",
    ")\n",
    "\n",
    "model = ChatOllama(model=\"qwen3:1.7b\",format=\"json\")\n",
    "agent = create_agent(model=model,tools=[send_email],middleware=[human_middleware],checkpointer=InMemorySaver())\n",
    "\n",
    "response =  agent.invoke({\n",
    "    \"messages\": [HumanMessage(\"请帮我发一封邮件给 Alice，说：'会议改到明天下午三点'。注意你必须使用工具 send_email 来发送邮件\")]\n",
    "},config={\n",
    "    \"thread_id\":\"thread-1\"\n",
    "})\n",
    "\n",
    "print(\"调用工具：\",response)"
   ],
   "id": "a90814cdb0367b8d",
   "outputs": [],
   "execution_count": null
  },
  {
   "metadata": {
    "ExecuteTime": {
     "end_time": "2025-10-22T11:08:23.466823Z",
     "start_time": "2025-10-22T11:08:22.377349Z"
    }
   },
   "cell_type": "code",
   "source": [
    "from langchain.agents import create_agent\n",
    "from langchain.tools import tool\n",
    "from langchain_ollama import ChatOllama\n",
    "from langchain.agents.middleware import HumanInTheLoopMiddleware\n",
    "\n",
    "@tool\n",
    "def search_web(query: str) -> str:\n",
    "    \"\"\"在网络上搜索信息。\"\"\"\n",
    "    return f\"关于 '{query}' 的搜索结果：相关文章、新闻和信息\"\n",
    "\n",
    "@tool\n",
    "def get_weather(location: str) -> str:\n",
    "    \"\"\"获取指定位置的天气信息。\"\"\"\n",
    "    print(\"获取天气信息的工具\".center(50,\"=\"))\n",
    "    return f\"{location}的天气：晴朗，25°C\"\n",
    "\n",
    "\n",
    "human_middleware = HumanInTheLoopMiddleware(\n",
    "    interrupt_on={\n",
    "        \"get_weather\": {\n",
    "            \"allowed_decisions\": [\"approve\", \"edit\", \"reject\"],\n",
    "        }\n",
    "    }\n",
    ")\n",
    "\n",
    "model = ChatOllama(model=\"qwen3:1.7b\")\n",
    "# 创建基础 Agent\n",
    "agent = create_agent(\n",
    "    model=model,\n",
    "    tools=[search_web, get_weather],\n",
    "    middleware=[human_middleware],\n",
    ")\n",
    "\n",
    "response = agent.invoke({\n",
    "    \"messages\": [HumanMessage(\"北京的天气怎么样\")]\n",
    "})\n",
    "\n",
    "print(response['messages'][1])"
   ],
   "id": "e760c33195e1688b",
   "outputs": [
    {
     "name": "stdout",
     "output_type": "stream",
     "text": [
      "content='' additional_kwargs={} response_metadata={'model': 'qwen3:1.7b', 'created_at': '2025-10-22T11:08:23.4638227Z', 'done': True, 'done_reason': 'stop', 'total_duration': 702470800, 'load_duration': 45301800, 'prompt_eval_count': 183, 'prompt_eval_duration': 130406500, 'eval_count': 97, 'eval_duration': 499115300, 'model_name': 'qwen3:1.7b', 'model_provider': 'ollama'} id='lc_run--26f04450-b49a-47aa-b758-eac8eec4dc58-0' tool_calls=[{'name': 'get_weather', 'args': {'location': '北京'}, 'id': 'f3af386b-9d65-4518-a2ec-e2203eabac75', 'type': 'tool_call'}] usage_metadata={'input_tokens': 183, 'output_tokens': 97, 'total_tokens': 280}\n"
     ]
    }
   ],
   "execution_count": 30
  },
  {
   "metadata": {},
   "cell_type": "code",
   "source": "response['']",
   "id": "dd7e333664ccc417",
   "outputs": [],
   "execution_count": null
  },
  {
   "metadata": {},
   "cell_type": "code",
   "source": "",
   "id": "b52be52962c3586e",
   "outputs": [],
   "execution_count": null
  }
 ],
 "metadata": {
  "kernelspec": {
   "display_name": "Python 3",
   "language": "python",
   "name": "python3"
  },
  "language_info": {
   "codemirror_mode": {
    "name": "ipython",
    "version": 2
   },
   "file_extension": ".py",
   "mimetype": "text/x-python",
   "name": "python",
   "nbconvert_exporter": "python",
   "pygments_lexer": "ipython2",
   "version": "2.7.6"
  }
 },
 "nbformat": 4,
 "nbformat_minor": 5
}
